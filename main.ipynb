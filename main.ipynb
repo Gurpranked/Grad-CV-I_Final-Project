{
 "cells": [
  {
   "cell_type": "code",
   "execution_count": 13,
   "id": "8b676db7",
   "metadata": {},
   "outputs": [],
   "source": [
    "# Load environment variables\n",
    "import os\n",
    "from dotenv import load_dotenv\n",
    "load_dotenv()\n",
    "IMAGES_PATH = os.getenv('IMAGES_PATH')\n",
    "ROOT_DATA_PATH = os.getenv('ROOT_DATA_PATH')\n",
    "BATCH_SIZE= int(os.getenv('BATCH_SIZE'))\n",
    "EPOCHS = int(os.getenv('EPOCHS'))\n",
    "LR = float(os.getenv('LR'))\n",
    "PATCH_SIZE=int(os.getenv('PATCH_SIZE'))\n",
    "DROPOUT=float(os.getenv('DROPOUT'))\n",
    "ATTENTION_DROPOUT=float(os.getenv('ATTENTION_DROPOUT'))\n",
    "HIDDEN_DIM=int(os.getenv('HIDDEN_DIM'))\n",
    "MLP_DIM=int(os.getenv('MLP_DIM'))\n",
    "NUM_HEADS=int(os.getenv('NUM_HEADS'))\n",
    "NUM_LAYERS=int(os.getenv('NUM_LAYERS'))\n"
   ]
  },
  {
   "cell_type": "code",
   "execution_count": 7,
   "id": "afaa1094",
   "metadata": {},
   "outputs": [],
   "source": [
    "import torch\n",
    "from torchvision.models import VisionTransformer\n",
    "from utilities import train_step, test_step\n",
    "\n",
    "model = VisionTransformer(image_size=80, patch_size=PATCH_SIZE, num_layers=NUM_LAYERS, \n",
    "                                       num_heads=NUM_HEADS, hidden_dim=HIDDEN_DIM, \n",
    "                                       mlp_dim=MLP_DIM, dropout=DROPOUT,\n",
    "                                       attention_dropout=ATTENTION_DROPOUT,\n",
    "                                       num_classes=2)\n",
    "loss_fn = torch.nn.BCELoss()\n",
    "optimizer = torch.optim.Adam(model.parameters(), lr=LR)"
   ]
  },
  {
   "cell_type": "code",
   "execution_count": null,
   "id": "a4d0ac94",
   "metadata": {},
   "outputs": [],
   "source": [
    "from preprocess.data_process import get_dataloaders\n",
    "from torch.utils.data import DataLoader\n",
    "\n",
    "if os.path.exists('train_set.pt'):\n",
    "    train_set = torch.load('train_set.pt')\n",
    "    train_loader = DataLoader(train_set, batch_size=BATCH_SIZE, shuffle=True)\n",
    "if os.path.exists('val_set.pt'):\n",
    "    val_set = torch.load('val_set.pt')\n",
    "    val_loader = DataLoader(val_set, batch_size=BATCH_SIZE, shuffle=False)\n",
    "if os.path.exists('test_set.pt'):\n",
    "    test_set = torch.load('test_set.pt')\n",
    "    test_loader = DataLoader(test_set, batch_size=BATCH_SIZE, shuffle=False)\n",
    "        \n",
    "else:\n",
    "    train_loader, val_loader, test_loader = get_dataloaders()"
   ]
  },
  {
   "cell_type": "code",
   "execution_count": null,
   "id": "b64fa42b",
   "metadata": {},
   "outputs": [],
   "source": [
    "from timeit import default_timer as timer\n",
    "from tqdm import tqdm\n",
    "import pandas as pd\n",
    "train_start_time = timer()\n",
    "\n",
    "device = torch.device(\"cuda\" if torch.cuda.is_available() else \"cpu\")\n",
    "print(f\"Training on Device: {device}\")\n",
    "model.to(device)\n",
    "\n",
    "# Create two empty dataframes to store loss and accuracy values\n",
    "train_df = pd.DataFrame(columns=['Loss', 'Accuracy'])\n",
    "test_df = pd.DataFrame(columns=['Loss', 'Accuracy'])\n",
    "\n",
    "print(\"-----------Training starting----------\")\n",
    "for epoch in tqdm(range(EPOCHS)):\n",
    "    if epoch % 10 == 0:\n",
    "        print(f\"Epoch {epoch + 1}/{EPOCHS}\")\n",
    "    \n",
    "    # Train the model\n",
    "    train_loss, train_acc = train_step(model, loss_fn, optimizer, device, train_loader)\n",
    "    test_loss, test_acc = test_step(model, loss_fn, device, test_loader)\n",
    "\n",
    "    # Accumulate the loss and accuracy for both train and test after each epoch\n",
    "    train_df.append({'Loss': train_loss.item(), 'Accuracy': train_acc}, ignore_index=False)\n",
    "    test_df.append({'Loss': test_loss.item(), 'Accuracy': test_acc}, ignore_index=False)\n",
    "\n",
    "print(\"-----------Training finished----------\")\n",
    "\n",
    "train_end_time = timer()\n",
    "\n",
    "total_train_time = train_end_time - train_start_time\n",
    "\n",
    "print(f\"Training completed in {total_train_time:.2f} seconds\")"
   ]
  }
 ],
 "metadata": {
  "kernelspec": {
   "display_name": "G-CV-I_Final",
   "language": "python",
   "name": "python3"
  },
  "language_info": {
   "codemirror_mode": {
    "name": "ipython",
    "version": 3
   },
   "file_extension": ".py",
   "mimetype": "text/x-python",
   "name": "python",
   "nbconvert_exporter": "python",
   "pygments_lexer": "ipython3",
   "version": "3.10.13"
  }
 },
 "nbformat": 4,
 "nbformat_minor": 5
}
