{
 "cells": [
  {
   "cell_type": "markdown",
   "id": "4c608b0d",
   "metadata": {},
   "source": [
    "# Transformers\n",
    "\n",
    "Gurpreet Singh, Logan Sehr, Chinmaykumar Brahmbhatt"
   ]
  },
  {
   "cell_type": "code",
   "execution_count": null,
   "id": "c2bb886f",
   "metadata": {},
   "outputs": [],
   "source": [
    "import numpy as np\n"
   ]
  }
 ],
 "metadata": {
  "kernelspec": {
   "display_name": "G-CV-I_Final",
   "language": "python",
   "name": "python3"
  },
  "language_info": {
   "name": "python",
   "version": "3.10.16"
  }
 },
 "nbformat": 4,
 "nbformat_minor": 5
}
