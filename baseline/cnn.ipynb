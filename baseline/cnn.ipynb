{
 "cells": [
  {
   "cell_type": "code",
   "execution_count": null,
   "id": "c3743306",
   "metadata": {},
   "outputs": [],
   "source": [
    "import os, torch, numpy as np\n",
    "from sklearn.model_selection import train_test_split\n",
    "from torch import nn\n",
    "from torchvision import transforms, models\n",
    "from torch.utils.data import Dataset, DataLoader\n",
    "from PIL import Image"
   ]
  },
  {
   "cell_type": "code",
   "execution_count": null,
   "id": "ca9b6160",
   "metadata": {},
   "outputs": [],
   "source": [
    "device = torch.device(\"cuda\" if torch.cuda.is_available() else \"cpu\")\n",
    "print(\"Using device:\", device)"
   ]
  },
  {
   "cell_type": "code",
   "execution_count": null,
   "id": "a87fe7dc",
   "metadata": {},
   "outputs": [],
   "source": [
    "class ShipsDataset(Dataset):\n",
    "    def __init__(self, paths, labels, transform=None):\n",
    "        self.paths     = paths     # list of file‐paths (strings)\n",
    "        self.labels    = labels    # list of ints\n",
    "        self.transform = transform\n",
    "    def __len__(self):\n",
    "        return len(self.paths)\n",
    "    def __getitem__(self, idx):\n",
    "        img_path = self.paths[idx]\n",
    "        image    = Image.open(img_path).convert(\"RGB\")   # ← load PIL image\n",
    "        if self.transform:\n",
    "            image = self.transform(image)                # ← apply ToTensor+Normalize\n",
    "        label = self.labels[idx]\n",
    "        return image, label\n",
    "\n",
    "BATCH_SIZE = 64  # or whatever you set earlier\n",
    "\n",
    "train_loader = DataLoader(\n",
    "    ShipsDataset(train_paths, train_labels, transform),\n",
    "    batch_size=BATCH_SIZE, shuffle=True,  num_workers=2\n",
    ")\n",
    "val_loader = DataLoader(\n",
    "    ShipsDataset(val_paths, val_labels, transform),\n",
    "    batch_size=BATCH_SIZE, shuffle=False, num_workers=2\n",
    ")\n",
    "test_loader = DataLoader(\n",
    "    ShipsDataset(test_paths, test_labels, transform),\n",
    "    batch_size=BATCH_SIZE, shuffle=False, num_workers=2\n",
    ")\n",
    "\n",
    "print(\"Rebuilt DataLoaders:\", len(train_loader), len(val_loader), len(test_loader))\n"
   ]
  },
  {
   "cell_type": "code",
   "execution_count": null,
   "id": "9303313c",
   "metadata": {},
   "outputs": [
    {
     "ename": "NameError",
     "evalue": "name 'device' is not defined",
     "output_type": "error",
     "traceback": [
      "\u001b[0;31m---------------------------------------------------------------------------\u001b[0m",
      "\u001b[0;31mNameError\u001b[0m                                 Traceback (most recent call last)",
      "Cell \u001b[0;32mIn[5], line 2\u001b[0m\n\u001b[1;32m      1\u001b[0m feature_extractor \u001b[38;5;241m=\u001b[39m nn\u001b[38;5;241m.\u001b[39mSequential(\u001b[38;5;241m*\u001b[39m\u001b[38;5;28mlist\u001b[39m(models\u001b[38;5;241m.\u001b[39mresnet18()\u001b[38;5;241m.\u001b[39mchildren())[:\u001b[38;5;241m-\u001b[39m\u001b[38;5;241m1\u001b[39m]) \u001b[38;5;66;03m#Removes the last layer from ResNet18 - So no Classification Layer\u001b[39;00m\n\u001b[0;32m----> 2\u001b[0m feature_extractor \u001b[38;5;241m=\u001b[39m feature_extractor\u001b[38;5;241m.\u001b[39mto(\u001b[43mdevice\u001b[49m) \u001b[38;5;66;03m# move model to Our GPU - cuda (No clue how to do that yet - chin)\u001b[39;00m\n\u001b[1;32m      3\u001b[0m feature_extractor\u001b[38;5;241m.\u001b[39meval() \n",
      "\u001b[0;31mNameError\u001b[0m: name 'device' is not defined"
     ]
    }
   ],
   "source": [
    "#Build frozen ResNet‑18 feature extractor\n",
    "base_model = models.resnet18(pretrained=True)\n",
    "feature_extractor = nn.Sequential(*list(base_model.children())[:-1]).to(device)\n",
    "feature_extractor.eval()\n"
   ]
  },
  {
   "cell_type": "code",
   "execution_count": null,
   "id": "f1947aae",
   "metadata": {},
   "outputs": [],
   "source": [
    "@torch.no_grad()\n",
    "def extract_features(loader):\n",
    "    feats, labs = [], []\n",
    "    for imgs, labels in loader:\n",
    "        imgs = imgs.to(device)\n",
    "        out  = feature_extractor(imgs)        # → [B,512,1,1]\n",
    "        out  = out.view(out.size(0), -1)      # → [B,512]\n",
    "        feats.append(out.cpu())\n",
    "        labs.append(torch.tensor(labels))\n",
    "    return torch.cat(feats, dim=0), torch.cat(labs, dim=0)\n",
    "\n",
    "train_feats, train_labels = extract_features(train_loader)\n",
    "test_feats,  test_labels  = extract_features(test_loader)\n",
    "print(f\"Train feats: {train_feats.shape}, Train labels: {train_labels.shape}\")\n",
    "print(f\"Test  feats: {test_feats.shape},  Test labels: {test_labels.shape}\")\n"
   ]
  },
  {
   "cell_type": "code",
   "execution_count": null,
   "id": "417eb477",
   "metadata": {},
   "outputs": [],
   "source": [
    "# Cell 9: Pure‑PyTorch KNN and evaluation\n",
    "def knn_predict(test_feats, train_feats, train_labels, k=5):\n",
    "    dists    = torch.cdist(test_feats, train_feats)  # [N_test,N_train]\n",
    "    idxs     = dists.topk(k, largest=False).indices  # [N_test,k]\n",
    "    knn_labs = train_labels[idxs]                    # [N_test,k]\n",
    "    preds    = []\n",
    "    for row in knn_labs:\n",
    "        vals, counts = row.unique(return_counts=True)\n",
    "        preds.append(vals[counts.argmax()].item())\n",
    "    return torch.tensor(preds)\n",
    "\n",
    "k     = 5\n",
    "preds = knn_predict(test_feats, train_feats, train_labels, k)\n",
    "acc   = (preds == test_labels).float().mean().item()\n",
    "print(f\"{k}-NN test accuracy: {acc * 100:.2f}%\")\n"
   ]
  }
 ],
 "metadata": {
  "kernelspec": {
   "display_name": "G-CV-I_Final",
   "language": "python",
   "name": "python3"
  },
  "language_info": {
   "codemirror_mode": {
    "name": "ipython",
    "version": 3
   },
   "file_extension": ".py",
   "mimetype": "text/x-python",
   "name": "python",
   "nbconvert_exporter": "python",
   "pygments_lexer": "ipython3",
   "version": "3.10.16"
  }
 },
 "nbformat": 4,
 "nbformat_minor": 5
}
