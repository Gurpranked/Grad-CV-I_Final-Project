{
 "cells": [
  {
   "cell_type": "code",
   "execution_count": 2,
   "id": "c3743306",
   "metadata": {},
   "outputs": [],
   "source": [
    "import torch\n",
    "from torch import nn \n",
    "from torchvision import models, datasets, transforms\n",
    "import tqdm"
   ]
  },
  {
   "cell_type": "code",
   "execution_count": 5,
   "id": "9303313c",
   "metadata": {},
   "outputs": [
    {
     "ename": "NameError",
     "evalue": "name 'device' is not defined",
     "output_type": "error",
     "traceback": [
      "\u001b[0;31m---------------------------------------------------------------------------\u001b[0m",
      "\u001b[0;31mNameError\u001b[0m                                 Traceback (most recent call last)",
      "Cell \u001b[0;32mIn[5], line 2\u001b[0m\n\u001b[1;32m      1\u001b[0m feature_extractor \u001b[38;5;241m=\u001b[39m nn\u001b[38;5;241m.\u001b[39mSequential(\u001b[38;5;241m*\u001b[39m\u001b[38;5;28mlist\u001b[39m(models\u001b[38;5;241m.\u001b[39mresnet18()\u001b[38;5;241m.\u001b[39mchildren())[:\u001b[38;5;241m-\u001b[39m\u001b[38;5;241m1\u001b[39m]) \u001b[38;5;66;03m#Removes the last layer from ResNet18 - So no Classification Layer\u001b[39;00m\n\u001b[0;32m----> 2\u001b[0m feature_extractor \u001b[38;5;241m=\u001b[39m feature_extractor\u001b[38;5;241m.\u001b[39mto(\u001b[43mdevice\u001b[49m) \u001b[38;5;66;03m# move model to Our GPU - cuda (No clue how to do that yet - chin)\u001b[39;00m\n\u001b[1;32m      3\u001b[0m feature_extractor\u001b[38;5;241m.\u001b[39meval() \n",
      "\u001b[0;31mNameError\u001b[0m: name 'device' is not defined"
     ]
    }
   ],
   "source": [
    "feature_extractor = nn.Sequential(*list(models.resnet18().children())[:-1]) #Removes the last layer from ResNet18 - So no Classification Layer\n",
    "feature_extractor = feature_extractor.to(device) # move model to Our GPU - cuda (No clue how to do that yet - chin)\n",
    "feature_extractor.eval() "
   ]
  },
  {
   "cell_type": "code",
   "execution_count": null,
   "id": "88e50c1f",
   "metadata": {},
   "outputs": [],
   "source": [
    "class CNN(nn.Module):\n",
    "    def __init__(self):\n",
    "        super().__init__()\n",
    "\n",
    "        # Create Parameters for Model Layers\n",
    "        # First Layer - Feature Extraction CNN using RESNET\n",
    "        # Second Layer - KNN\n",
    "\n",
    "    def forward(self):\n",
    "        # Activation Function - ReLU\n",
    "        return"
   ]
  },
  {
   "cell_type": "code",
   "execution_count": null,
   "id": "f1947aae",
   "metadata": {},
   "outputs": [],
   "source": [
    "features = []\n",
    "all_labels = []\n",
    "\n",
    "with touch.no_grad():\n",
    "    for image_batch, labels_batch in tqdm(data_loader, desc='Extracting Features'):\n",
    "        image_batch = image_batch.to(device) #GPU\n",
    "        outputs = feature_extractor(image_batch)\n",
    "        outputs = outputs.view(outputs.size(0), -1) #Flatten it\n",
    "        features.append(outputs.cpu().numpy())\n",
    "        all_labels.extend(labels_batch)\n",
    "\n"
   ]
  },
  {
   "cell_type": "code",
   "execution_count": null,
   "id": "b29b243d",
   "metadata": {},
   "outputs": [],
   "source": []
  }
 ],
 "metadata": {
  "kernelspec": {
   "display_name": "G-CV-I_Final",
   "language": "python",
   "name": "python3"
  },
  "language_info": {
   "codemirror_mode": {
    "name": "ipython",
    "version": 3
   },
   "file_extension": ".py",
   "mimetype": "text/x-python",
   "name": "python",
   "nbconvert_exporter": "python",
   "pygments_lexer": "ipython3",
   "version": "3.10.16"
  }
 },
 "nbformat": 4,
 "nbformat_minor": 5
}
